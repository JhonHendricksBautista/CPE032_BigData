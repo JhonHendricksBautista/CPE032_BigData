{
  "nbformat": 4,
  "nbformat_minor": 0,
  "metadata": {
    "colab": {
      "provenance": [],
      "include_colab_link": true
    },
    "kernelspec": {
      "name": "python3",
      "display_name": "Python 3"
    },
    "language_info": {
      "name": "python"
    }
  },
  "cells": [
    {
      "cell_type": "markdown",
      "metadata": {
        "id": "view-in-github",
        "colab_type": "text"
      },
      "source": [
        "<a href=\"https://colab.research.google.com/github/JhonHendricksBautista/CPE032_BigData/blob/main/Hands_On_Activity_1_1_Bautista.ipynb\" target=\"_parent\"><img src=\"https://colab.research.google.com/assets/colab-badge.svg\" alt=\"Open In Colab\"/></a>"
      ]
    },
    {
      "cell_type": "markdown",
      "source": [
        "Name: Jhon Hendricks T. Bautista <br>\n",
        "Section: CPE31S4 <br>\n",
        "Instructor: Engr Neal Matira <br>\n",
        "Date: 07/31/2025"
      ],
      "metadata": {
        "id": "nbsIPVtFOu5Q"
      }
    },
    {
      "cell_type": "markdown",
      "source": [
        "# Hands-On-Activity-1.1"
      ],
      "metadata": {
        "id": "I6Q6SR6o27Hw"
      }
    },
    {
      "cell_type": "markdown",
      "source": [
        "## Objective(s)\n",
        "The objective of this activity is to familiarize students with PySpark and Google Colab by setting up a foundational big data environment suitable for distributed data processing."
      ],
      "metadata": {
        "id": "G5VxqWsX5EK7"
      }
    },
    {
      "cell_type": "markdown",
      "source": [
        "## Intended Learning Outcomes\n",
        "\n",
        "At the end of this activity, the students should be able to:\n",
        "\n",
        "\n",
        "*   Analyze how PySpark handles data processing compared to traditional tools.\n",
        "*   Evaluate the benefits of distributed computing using simulated large-scale operations.\n",
        "*   Create a basic data processing workflow using PySpark DataFrames on Google Colab\n",
        "\n"
      ],
      "metadata": {
        "id": "13hXRFk75CCG"
      }
    },
    {
      "cell_type": "markdown",
      "source": [
        "## Discussion\n",
        "\n",
        "**What is PySpark?**\n",
        "\n",
        "Apache Spark is an open-source, distributed computing system designed for fast processing of large-scale data. PySpark is the Python interface for Apache Spark. It handles large datasets efficiently with parallel computation in Python workflows, ideal for batch processing, real-time streaming, machine learning, data analytics, and SQL querying. PySpark supports industries like finance, healthcare, and e-commerce with speed and scalability.\n",
        "\n",
        "\n",
        "**Spark Cluster**\n",
        "\n",
        "\n",
        "A key component of working with PySpark is clusters. A Spark cluster is a group of computers (nodes) that collaboratively process large datasets using Apache Spark, with a master node coordinating multiple worker nodes. This architecture enables distributed processing. The master node manages resources and tasks, while worker nodes execute assigned compute tasks.\n",
        "\n",
        "\n",
        "**Spark Session**\n",
        "\n",
        "\n",
        "A SparkSession is the entry point into PySpark, enabling interaction with Apache Spark's core capabilities. It allows us to execute queries, process data, and manage resources in the Spark cluster."
      ],
      "metadata": {
        "id": "m9qJStw-5CcI"
      }
    },
    {
      "cell_type": "markdown",
      "source": [
        "## Materials and Equipment\n",
        "\n",
        "\n",
        "*   Internet connection\n",
        "*   Google Colab\n",
        "*   Personal Computer\n",
        "\n"
      ],
      "metadata": {
        "id": "2F2HiO2G5Ce-"
      }
    },
    {
      "cell_type": "markdown",
      "source": [
        "## Procedure"
      ],
      "metadata": {
        "id": "cIiQRyJi53bL"
      }
    },
    {
      "cell_type": "markdown",
      "source": [
        "Importing Google Colab and Initializationof SparkSession"
      ],
      "metadata": {
        "id": "jL_NQHqo56Mh"
      }
    },
    {
      "cell_type": "code",
      "execution_count": 3,
      "metadata": {
        "colab": {
          "base_uri": "https://localhost:8080/"
        },
        "id": "-qWF0Whm2rji",
        "outputId": "083b5b31-9be2-40a6-d567-69a9ce8db5fc"
      },
      "outputs": [
        {
          "output_type": "stream",
          "name": "stdout",
          "text": [
            "<pyspark.sql.session.SparkSession object at 0x7fb58b7ac390>\n"
          ]
        }
      ],
      "source": [
        "from pyspark.sql import SparkSession\n",
        "my_spark = SparkSession.builder.appName(\"my_spark\").getOrCreate()\n",
        "print(my_spark)"
      ]
    },
    {
      "cell_type": "markdown",
      "source": [
        "### Data Loading"
      ],
      "metadata": {
        "id": "Bn9SmAXD6B-R"
      }
    },
    {
      "cell_type": "code",
      "source": [
        "from google.colab import drive\n",
        "drive.mount('/content/drive')"
      ],
      "metadata": {
        "id": "DhZ58BYM77m7",
        "colab": {
          "base_uri": "https://localhost:8080/"
        },
        "outputId": "042dfa6e-01ed-4ec4-cc98-10dd000081a6"
      },
      "execution_count": 1,
      "outputs": [
        {
          "output_type": "stream",
          "name": "stdout",
          "text": [
            "Mounted at /content/drive\n"
          ]
        }
      ]
    },
    {
      "cell_type": "code",
      "source": [
        "username_df = my_spark.read.csv(\"/content/drive/MyDrive/BigData_Bautista/username.csv\", header=True, inferSchema=True) ## TODO: Change path according to your folder setup\n",
        "username_df.show()"
      ],
      "metadata": {
        "colab": {
          "base_uri": "https://localhost:8080/"
        },
        "id": "_O0jiFy526yS",
        "outputId": "89cd8460-f291-41d4-8c46-96acfed2fe13"
      },
      "execution_count": 4,
      "outputs": [
        {
          "output_type": "stream",
          "name": "stdout",
          "text": [
            "+---------------+----------+----------+---------+\n",
            "|       Username|Identifier|First Name|Last Name|\n",
            "+---------------+----------+----------+---------+\n",
            "|  graylooker123|      1002|    Robert|  Jenkins|\n",
            "|    ironlord982|      1003|     Linux| Cromwell|\n",
            "|  skyrimlord023|      1004| Cassandra|    Ramos|\n",
            "|wannabefortnite|      1005|    Joseph|   Pandas|\n",
            "|    smithSummer|      1006|    Tensor|     Flow|\n",
            "+---------------+----------+----------+---------+\n",
            "\n"
          ]
        }
      ]
    },
    {
      "cell_type": "markdown",
      "source": [
        "Follow up question, what happens when you run this code?"
      ],
      "metadata": {
        "id": "WqH3y_us3WRh"
      }
    },
    {
      "cell_type": "markdown",
      "source": [
        "irst I changed the file path according to my mounted drive to be able to use the csv file. After running the code, it gave a table of the data inside the csv file. It shows all the columns and rows in the csv file."
      ],
      "metadata": {
        "id": "P0KwJov629C0"
      }
    },
    {
      "cell_type": "markdown",
      "source": [
        "count the number of rows"
      ],
      "metadata": {
        "id": "VPGntgn_6HzE"
      }
    },
    {
      "cell_type": "code",
      "source": [
        "username_df.count()"
      ],
      "metadata": {
        "id": "Qmk1blM94dc8",
        "colab": {
          "base_uri": "https://localhost:8080/"
        },
        "outputId": "34cf5b28-eac6-4212-c4c9-17733bc70f10"
      },
      "execution_count": 5,
      "outputs": [
        {
          "output_type": "execute_result",
          "data": {
            "text/plain": [
              "5"
            ]
          },
          "metadata": {},
          "execution_count": 5
        }
      ]
    },
    {
      "cell_type": "markdown",
      "source": [
        "### Sample Filtering of dataframe"
      ],
      "metadata": {
        "id": "tkX-1uo96LGg"
      }
    },
    {
      "cell_type": "code",
      "source": [
        "df_filtered = username_df.filter(username_df[\"Identifier\"] > 1002)"
      ],
      "metadata": {
        "id": "eG7GTUZt4iXT"
      },
      "execution_count": 6,
      "outputs": []
    },
    {
      "cell_type": "code",
      "source": [
        "df_filtered.show()"
      ],
      "metadata": {
        "id": "Dd3ehuD14pXr",
        "colab": {
          "base_uri": "https://localhost:8080/"
        },
        "outputId": "62874aae-5584-4390-9767-e693eeabc2a4"
      },
      "execution_count": 7,
      "outputs": [
        {
          "output_type": "stream",
          "name": "stdout",
          "text": [
            "+---------------+----------+----------+---------+\n",
            "|       Username|Identifier|First Name|Last Name|\n",
            "+---------------+----------+----------+---------+\n",
            "|    ironlord982|      1003|     Linux| Cromwell|\n",
            "|  skyrimlord023|      1004| Cassandra|    Ramos|\n",
            "|wannabefortnite|      1005|    Joseph|   Pandas|\n",
            "|    smithSummer|      1006|    Tensor|     Flow|\n",
            "+---------------+----------+----------+---------+\n",
            "\n"
          ]
        }
      ]
    },
    {
      "cell_type": "markdown",
      "source": [
        "The output reveals the data which has a “Identifier” value of greater than 1002. This will output only 4 rows compared to the previous code because of the filter function removing or excluding all the data that does not meet the conditions.\n"
      ],
      "metadata": {
        "id": "cHU-3NFq6PTw"
      }
    },
    {
      "cell_type": "markdown",
      "source": [
        "**Enter your answer here**"
      ],
      "metadata": {
        "id": "Ll1KLA814ocv"
      }
    },
    {
      "cell_type": "markdown",
      "source": [
        "### Aggregating and Grouping"
      ],
      "metadata": {
        "id": "aADowrJf6Ruf"
      }
    },
    {
      "cell_type": "code",
      "source": [
        "from pyspark.sql.functions import avg\n",
        "username_df.groupBy(\"Username\").agg(avg(\"Identifier\")).show()"
      ],
      "metadata": {
        "id": "w2oY3d2m4yIQ",
        "colab": {
          "base_uri": "https://localhost:8080/"
        },
        "outputId": "d42566f4-3466-4ab0-9787-b1ef60d279da"
      },
      "execution_count": 8,
      "outputs": [
        {
          "output_type": "stream",
          "name": "stdout",
          "text": [
            "+---------------+---------------+\n",
            "|       Username|avg(Identifier)|\n",
            "+---------------+---------------+\n",
            "|wannabefortnite|         1005.0|\n",
            "|  skyrimlord023|         1004.0|\n",
            "|    ironlord982|         1003.0|\n",
            "|  graylooker123|         1002.0|\n",
            "|    smithSummer|         1006.0|\n",
            "+---------------+---------------+\n",
            "\n"
          ]
        }
      ]
    },
    {
      "cell_type": "markdown",
      "source": [
        "Summarize the procedure conducted"
      ],
      "metadata": {
        "id": "YJU4Pnsw6ZlL"
      }
    },
    {
      "cell_type": "markdown",
      "source": [
        "**Enter your answer here**"
      ],
      "metadata": {
        "id": "-WNRDkgC6fX3"
      }
    },
    {
      "cell_type": "markdown",
      "source": [
        "# Supplementary Activity"
      ],
      "metadata": {
        "id": "1ugAzcrO6gDc"
      }
    },
    {
      "cell_type": "markdown",
      "source": [
        "1. Create a dataframe\n",
        "2. Use the old SparkSession instead of creating a new one\n",
        "3. Load the Employee_salaries.csv\n",
        "4. Filter the Employees based on their gender\n",
        "5. Group the Employees based on their Gender and Average their Salaries\n",
        "6. Compute annual salary for each employee.\n",
        "7. Sort the result and display the highest average."
      ],
      "metadata": {
        "id": "gn4pQKOg6p3J"
      }
    },
    {
      "cell_type": "markdown",
      "source": [
        "*Note that for each number in the supplementary activity (1-7), provide and explanation of the procedure, output, and/or analysis*"
      ],
      "metadata": {
        "id": "OGSE-Xi77CTA"
      }
    },
    {
      "cell_type": "code",
      "source": [],
      "metadata": {
        "id": "GGplkhJo6zEl"
      },
      "execution_count": null,
      "outputs": []
    },
    {
      "cell_type": "markdown",
      "source": [
        "## **1. Create a dataframe**"
      ],
      "metadata": {
        "id": "WLxojpVOUtyg"
      }
    },
    {
      "cell_type": "code",
      "source": [
        "# Name the new dataframe based on its content\n",
        "employees_df = my_spark.read.csv(\"/content/drive/MyDrive/BigData_Bautista/Employee_Salaries.csv\", header=True, inferSchema=True)"
      ],
      "metadata": {
        "colab": {
          "base_uri": "https://localhost:8080/"
        },
        "id": "WQ-XSmPXU72Q",
        "outputId": "830ddac8-ea18-41df-fb5d-40962abd3f9a"
      },
      "execution_count": 10,
      "outputs": [
        {
          "output_type": "stream",
          "name": "stdout",
          "text": [
            "+----------+--------------------+--------------------+------+-----------+------------+-------------+-----+\n",
            "|Department|     Department_Name|            Division|Gender|Base_Salary|Overtime_Pay|Longevity_Pay|Grade|\n",
            "+----------+--------------------+--------------------+------+-----------+------------+-------------+-----+\n",
            "|       ABS|Alcohol Beverage ...|ABS 85 Administra...|     M|   175873.0|         0.0|          0.0|   M2|\n",
            "|       ABS|Alcohol Beverage ...|ABS 85 Administra...|     M|  145613.36|         0.0|          0.0|   M3|\n",
            "|       ABS|Alcohol Beverage ...|ABS 85 Administra...|     F|   136970.0|         0.0|          0.0|   M3|\n",
            "|       ABS|Alcohol Beverage ...|ABS 85 Administra...|     F|  89432.694|         0.0|       2490.0|   21|\n",
            "|       ABS|Alcohol Beverage ...|ABS 85 Administra...|     F|    78947.0|      456.68|       6257.7|   16|\n",
            "|       ABS|Alcohol Beverage ...|ABS 85 Administra...|     F|    98228.0|       518.8|       998.28|   21|\n",
            "|       ABS|Alcohol Beverage ...|ABS 85 Administra...|     F| 82405.3864|       549.2|          0.0|   18|\n",
            "|       ABS|Alcohol Beverage ...|ABS 85 Administra...|     M|    93986.0|     1187.06|      2452.94|  N20|\n",
            "|       ABS|Alcohol Beverage ...|ABS 85 Administra...|     F|  149464.15|         0.0|      9021.82|   18|\n",
            "|       ABS|Alcohol Beverage ...|ABS 85 Administra...|     M|   117424.0|         0.0|          0.0|  N25|\n",
            "|       ABS|Alcohol Beverage ...|ABS 85 Administra...|     F|   82808.28|    11870.82|          0.0|   21|\n",
            "|       ABS|Alcohol Beverage ...|ABS 85 Administra...|     M| 65961.8438|      2092.7|          0.0|   13|\n",
            "|       ABS|Alcohol Beverage ...|ABS 85 Administra...|     M|   59288.86|     1013.01|          0.0|   13|\n",
            "|       ABS|Alcohol Beverage ...|ABS 85 Administra...|     M|  139407.15|         0.0|          0.0|   M3|\n",
            "|       ABS|Alcohol Beverage ...|ABS 85 Administra...|     F|   128531.0|         0.0|          0.0|  N27|\n",
            "|       ABS|Alcohol Beverage ...|ABS 85 Administra...|     M|  152632.07|         0.0|          0.0|   M3|\n",
            "|       ABS|Alcohol Beverage ...|ABS 85 Administra...|     F| 73955.2951|     3509.43|          0.0|   16|\n",
            "|       ABS|Alcohol Beverage ...|ABS 85 Administra...|     M|   117424.0|         0.0|          0.0|  N25|\n",
            "|       ABS|Alcohol Beverage ...|ABS 85 Administra...|     M|   117424.0|         0.0|          0.0|  N25|\n",
            "|       ABS|Alcohol Beverage ...|ABS 85 Administra...|     F| 110572.155|         0.0|          0.0|  N26|\n",
            "+----------+--------------------+--------------------+------+-----------+------------+-------------+-----+\n",
            "only showing top 20 rows\n",
            "\n"
          ]
        }
      ]
    },
    {
      "cell_type": "markdown",
      "source": [
        "In the code above I simple named the new dataframe as \"employees_df\" since the data is about employees. Then to ge or use the data, I copied the file path from my drive to output the dataframe."
      ],
      "metadata": {
        "id": "t9Tcd-AWWBFw"
      }
    },
    {
      "cell_type": "markdown",
      "source": [
        "## **2. Use the old SparkSession instead of creating a new one**"
      ],
      "metadata": {
        "id": "7dJW4aXmVy5H"
      }
    },
    {
      "cell_type": "code",
      "source": [
        "from pyspark.sql import SparkSession # spark session copied in the procedure\n",
        "my_spark = SparkSession.builder.appName(\"my_spark\").getOrCreate()\n",
        "print(my_spark)"
      ],
      "metadata": {
        "id": "tTOypqvrV-yA"
      },
      "execution_count": null,
      "outputs": []
    },
    {
      "cell_type": "markdown",
      "source": [
        "In the code above I simply copied the spark session used in the procedure above. This enables me to use the csv file and turn it into a dataframe.\n",
        "\n"
      ],
      "metadata": {
        "id": "IynYcQITWSTY"
      }
    },
    {
      "cell_type": "markdown",
      "source": [
        "### **3. Load the Employee_salaries.csv**"
      ],
      "metadata": {
        "id": "KdTIDchVWX6h"
      }
    },
    {
      "cell_type": "code",
      "source": [
        "# use show function to display the data\n",
        "employees_df.show()"
      ],
      "metadata": {
        "colab": {
          "base_uri": "https://localhost:8080/"
        },
        "id": "pqSH3CnGWSzb",
        "outputId": "e968e6ed-ca6a-4867-fb9d-67be33c7ac74"
      },
      "execution_count": 11,
      "outputs": [
        {
          "output_type": "stream",
          "name": "stdout",
          "text": [
            "+----------+--------------------+--------------------+------+-----------+------------+-------------+-----+\n",
            "|Department|     Department_Name|            Division|Gender|Base_Salary|Overtime_Pay|Longevity_Pay|Grade|\n",
            "+----------+--------------------+--------------------+------+-----------+------------+-------------+-----+\n",
            "|       ABS|Alcohol Beverage ...|ABS 85 Administra...|     M|   175873.0|         0.0|          0.0|   M2|\n",
            "|       ABS|Alcohol Beverage ...|ABS 85 Administra...|     M|  145613.36|         0.0|          0.0|   M3|\n",
            "|       ABS|Alcohol Beverage ...|ABS 85 Administra...|     F|   136970.0|         0.0|          0.0|   M3|\n",
            "|       ABS|Alcohol Beverage ...|ABS 85 Administra...|     F|  89432.694|         0.0|       2490.0|   21|\n",
            "|       ABS|Alcohol Beverage ...|ABS 85 Administra...|     F|    78947.0|      456.68|       6257.7|   16|\n",
            "|       ABS|Alcohol Beverage ...|ABS 85 Administra...|     F|    98228.0|       518.8|       998.28|   21|\n",
            "|       ABS|Alcohol Beverage ...|ABS 85 Administra...|     F| 82405.3864|       549.2|          0.0|   18|\n",
            "|       ABS|Alcohol Beverage ...|ABS 85 Administra...|     M|    93986.0|     1187.06|      2452.94|  N20|\n",
            "|       ABS|Alcohol Beverage ...|ABS 85 Administra...|     F|  149464.15|         0.0|      9021.82|   18|\n",
            "|       ABS|Alcohol Beverage ...|ABS 85 Administra...|     M|   117424.0|         0.0|          0.0|  N25|\n",
            "|       ABS|Alcohol Beverage ...|ABS 85 Administra...|     F|   82808.28|    11870.82|          0.0|   21|\n",
            "|       ABS|Alcohol Beverage ...|ABS 85 Administra...|     M| 65961.8438|      2092.7|          0.0|   13|\n",
            "|       ABS|Alcohol Beverage ...|ABS 85 Administra...|     M|   59288.86|     1013.01|          0.0|   13|\n",
            "|       ABS|Alcohol Beverage ...|ABS 85 Administra...|     M|  139407.15|         0.0|          0.0|   M3|\n",
            "|       ABS|Alcohol Beverage ...|ABS 85 Administra...|     F|   128531.0|         0.0|          0.0|  N27|\n",
            "|       ABS|Alcohol Beverage ...|ABS 85 Administra...|     M|  152632.07|         0.0|          0.0|   M3|\n",
            "|       ABS|Alcohol Beverage ...|ABS 85 Administra...|     F| 73955.2951|     3509.43|          0.0|   16|\n",
            "|       ABS|Alcohol Beverage ...|ABS 85 Administra...|     M|   117424.0|         0.0|          0.0|  N25|\n",
            "|       ABS|Alcohol Beverage ...|ABS 85 Administra...|     M|   117424.0|         0.0|          0.0|  N25|\n",
            "|       ABS|Alcohol Beverage ...|ABS 85 Administra...|     F| 110572.155|         0.0|          0.0|  N26|\n",
            "+----------+--------------------+--------------------+------+-----------+------------+-------------+-----+\n",
            "only showing top 20 rows\n",
            "\n"
          ]
        }
      ]
    },
    {
      "cell_type": "markdown",
      "source": [
        "In this code I simply used the show function in order to output the dataframe. This was possible since there is already an established spark session and dataframe variable created in the previous numbers."
      ],
      "metadata": {
        "id": "k_6Nzhy-Wlwp"
      }
    },
    {
      "cell_type": "markdown",
      "source": [
        "### **4. Filter the Employees based on their gender**"
      ],
      "metadata": {
        "id": "x6cmyyouWoVj"
      }
    },
    {
      "cell_type": "code",
      "source": [
        "# Filter the gender of MALE\n",
        "employees_df.filter(employees_df['Gender'] == 'M').show()"
      ],
      "metadata": {
        "colab": {
          "base_uri": "https://localhost:8080/"
        },
        "id": "3R8AJw2bWnTw",
        "outputId": "dbb53d34-ec4c-4474-ddce-fa911a082056"
      },
      "execution_count": 12,
      "outputs": [
        {
          "output_type": "stream",
          "name": "stdout",
          "text": [
            "+----------+--------------------+--------------------+------+-----------+------------+-------------+-----+\n",
            "|Department|     Department_Name|            Division|Gender|Base_Salary|Overtime_Pay|Longevity_Pay|Grade|\n",
            "+----------+--------------------+--------------------+------+-----------+------------+-------------+-----+\n",
            "|       ABS|Alcohol Beverage ...|ABS 85 Administra...|     M|   175873.0|         0.0|          0.0|   M2|\n",
            "|       ABS|Alcohol Beverage ...|ABS 85 Administra...|     M|  145613.36|         0.0|          0.0|   M3|\n",
            "|       ABS|Alcohol Beverage ...|ABS 85 Administra...|     M|    93986.0|     1187.06|      2452.94|  N20|\n",
            "|       ABS|Alcohol Beverage ...|ABS 85 Administra...|     M|   117424.0|         0.0|          0.0|  N25|\n",
            "|       ABS|Alcohol Beverage ...|ABS 85 Administra...|     M| 65961.8438|      2092.7|          0.0|   13|\n",
            "|       ABS|Alcohol Beverage ...|ABS 85 Administra...|     M|   59288.86|     1013.01|          0.0|   13|\n",
            "|       ABS|Alcohol Beverage ...|ABS 85 Administra...|     M|  139407.15|         0.0|          0.0|   M3|\n",
            "|       ABS|Alcohol Beverage ...|ABS 85 Administra...|     M|  152632.07|         0.0|          0.0|   M3|\n",
            "|       ABS|Alcohol Beverage ...|ABS 85 Administra...|     M|   117424.0|         0.0|          0.0|  N25|\n",
            "|       ABS|Alcohol Beverage ...|ABS 85 Administra...|     M|   117424.0|         0.0|          0.0|  N25|\n",
            "|       ABS|Alcohol Beverage ...|ABS 85 Beer Deliv...|     M|    61240.0|     5294.68|       995.18|   10|\n",
            "|       ABS|Alcohol Beverage ...|ABS 85 Beer Deliv...|     M|    61240.0|       92.35|       4827.4|   10|\n",
            "|       ABS|Alcohol Beverage ...|ABS 85 Beer Deliv...|     M|    86103.0|    23917.44|      3665.64|  N18|\n",
            "|       ABS|Alcohol Beverage ...|ABS 85 Beer Deliv...|     M|    61240.0|     9580.78|        459.3|   10|\n",
            "|       ABS|Alcohol Beverage ...|ABS 85 Beer Deliv...|     M|    86103.0|     3165.46|      3665.65|  N18|\n",
            "|       ABS|Alcohol Beverage ...|ABS 85 Beer Deliv...|     M| 75086.4937|     6857.37|          0.0|   15|\n",
            "|       ABS|Alcohol Beverage ...|ABS 85 Beer Deliv...|     M| 81931.2453|    24672.86|          0.0|  N18|\n",
            "|       ABS|Alcohol Beverage ...|ABS 85 Beer Deliv...|     M|    75621.0|     2065.26|      3471.32|   15|\n",
            "|       ABS|Alcohol Beverage ...|ABS 85 Beer Deliv...|     M|  75621.002|     4453.91|      3572.85|   15|\n",
            "|       ABS|Alcohol Beverage ...|ABS 85 Beer Deliv...|     M|    75621.0|    10989.68|      3436.83|   15|\n",
            "+----------+--------------------+--------------------+------+-----------+------------+-------------+-----+\n",
            "only showing top 20 rows\n",
            "\n"
          ]
        }
      ]
    },
    {
      "cell_type": "code",
      "source": [
        "# Filter the gender of FEMALE\n",
        "employees_df.filter(employees_df['Gender'] == 'F').show()"
      ],
      "metadata": {
        "colab": {
          "base_uri": "https://localhost:8080/"
        },
        "id": "_VyhIxMIXJ-B",
        "outputId": "a167406d-eec6-4d71-8f2f-3b0e457e323c"
      },
      "execution_count": 13,
      "outputs": [
        {
          "output_type": "stream",
          "name": "stdout",
          "text": [
            "+----------+--------------------+--------------------+------+-----------+------------+-------------+-----+\n",
            "|Department|     Department_Name|            Division|Gender|Base_Salary|Overtime_Pay|Longevity_Pay|Grade|\n",
            "+----------+--------------------+--------------------+------+-----------+------------+-------------+-----+\n",
            "|       ABS|Alcohol Beverage ...|ABS 85 Administra...|     F|   136970.0|         0.0|          0.0|   M3|\n",
            "|       ABS|Alcohol Beverage ...|ABS 85 Administra...|     F|  89432.694|         0.0|       2490.0|   21|\n",
            "|       ABS|Alcohol Beverage ...|ABS 85 Administra...|     F|    78947.0|      456.68|       6257.7|   16|\n",
            "|       ABS|Alcohol Beverage ...|ABS 85 Administra...|     F|    98228.0|       518.8|       998.28|   21|\n",
            "|       ABS|Alcohol Beverage ...|ABS 85 Administra...|     F| 82405.3864|       549.2|          0.0|   18|\n",
            "|       ABS|Alcohol Beverage ...|ABS 85 Administra...|     F|  149464.15|         0.0|      9021.82|   18|\n",
            "|       ABS|Alcohol Beverage ...|ABS 85 Administra...|     F|   82808.28|    11870.82|          0.0|   21|\n",
            "|       ABS|Alcohol Beverage ...|ABS 85 Administra...|     F|   128531.0|         0.0|          0.0|  N27|\n",
            "|       ABS|Alcohol Beverage ...|ABS 85 Administra...|     F| 73955.2951|     3509.43|          0.0|   16|\n",
            "|       ABS|Alcohol Beverage ...|ABS 85 Administra...|     F| 110572.155|         0.0|          0.0|  N26|\n",
            "|       ABS|Alcohol Beverage ...| ABS 85 Beer Loading|     F|    76668.0|     3226.55|          0.0|   12|\n",
            "|       ABS|Alcohol Beverage ...|ABS 85 Beer Wareh...|     F|  56922.265|     6156.95|          0.0|   13|\n",
            "|       ABS|Alcohol Beverage ...|ABS 85 Licensure,...|     F|  166140.03|         0.0|          0.0|   M2|\n",
            "|       ABS|Alcohol Beverage ...|ABS 85 Licensure,...|     F| 99335.0745|     1540.34|          0.0|   22|\n",
            "|       ABS|Alcohol Beverage ...|ABS 85 Licensure,...|     F|  94334.247|         0.0|          0.0|  N25|\n",
            "|       ABS|Alcohol Beverage ...|ABS 85 Licensure,...|     F|    98349.0|         0.0|          0.0|   22|\n",
            "|       ABS|Alcohol Beverage ...|ABS 85 Licensure,...|     F|    64633.0|         0.0|          0.0|   16|\n",
            "|       ABS|Alcohol Beverage ...|ABS 85 Licensure,...|     F|    54583.0|         0.0|          0.0|   18|\n",
            "|       ABS|Alcohol Beverage ...| ABS 85 Burtonsville|     F| 47447.9101|     1302.22|          0.0|   12|\n",
            "|       ABS|Alcohol Beverage ...| ABS 85 Burtonsville|     F| 58239.9985|      536.86|          0.0|   14|\n",
            "+----------+--------------------+--------------------+------+-----------+------------+-------------+-----+\n",
            "only showing top 20 rows\n",
            "\n"
          ]
        }
      ]
    },
    {
      "cell_type": "markdown",
      "source": [
        "For the problem number 4, I used the filter function in order to filter a rows of data based in the value of their \"Gender' column. First I filtered the Male which will output only records of employees which are male. Then I changed the condition to female. This will now output only rows of data for the female emoplyees data records."
      ],
      "metadata": {
        "id": "5q25y2apXP93"
      }
    },
    {
      "cell_type": "markdown",
      "source": [
        "### **5. Group the Employees based on their Gender and Average their Salaries**"
      ],
      "metadata": {
        "id": "YYhCJ0JaXPzI"
      }
    },
    {
      "cell_type": "code",
      "source": [
        "from pyspark.sql.functions import avg\n",
        "employees_df.groupBy(\"Gender\").agg(avg(\"Base_Salary\")).show() # using groupby function"
      ],
      "metadata": {
        "colab": {
          "base_uri": "https://localhost:8080/"
        },
        "id": "5EkWodKwXUJI",
        "outputId": "d4e41736-c59b-4670-f60f-50774f776428"
      },
      "execution_count": 14,
      "outputs": [
        {
          "output_type": "stream",
          "name": "stdout",
          "text": [
            "+------+-----------------+\n",
            "|Gender| avg(Base_Salary)|\n",
            "+------+-----------------+\n",
            "|     F|87497.50279041701|\n",
            "|     M|92382.92975236966|\n",
            "+------+-----------------+\n",
            "\n"
          ]
        }
      ]
    },
    {
      "cell_type": "markdown",
      "source": [
        "For this code in order to group all the employees by gender, I used the groupby function. I used the column of gender to group the data since it is the condition needed. There is also to average their salaries, which we can by aggregating the data points which uses the average function. As a result all the records of male and female are averaged leaving us with 2 rows of data."
      ],
      "metadata": {
        "id": "GC87tzsGXx2g"
      }
    },
    {
      "cell_type": "markdown",
      "source": [
        "### **6. Compute annual salary for each employee.**\n"
      ],
      "metadata": {
        "id": "JIbuUea4Xyzh"
      }
    },
    {
      "cell_type": "code",
      "source": [
        "employees_df_w_annual = employees_df.withColumn(\"Annual_Salary\", employees_df.Base_Salary*12)\n",
        "employees_df_w_annual.show()"
      ],
      "metadata": {
        "colab": {
          "base_uri": "https://localhost:8080/"
        },
        "id": "Ys4KXbTpXyEo",
        "outputId": "9246f8e8-47a2-4bd3-89e2-0dbea47266af"
      },
      "execution_count": 18,
      "outputs": [
        {
          "output_type": "stream",
          "name": "stdout",
          "text": [
            "+----------+--------------------+--------------------+------+-----------+------------+-------------+-----+------------------+\n",
            "|Department|     Department_Name|            Division|Gender|Base_Salary|Overtime_Pay|Longevity_Pay|Grade|     Annual_Salary|\n",
            "+----------+--------------------+--------------------+------+-----------+------------+-------------+-----+------------------+\n",
            "|       ABS|Alcohol Beverage ...|ABS 85 Administra...|     M|   175873.0|         0.0|          0.0|   M2|         2110476.0|\n",
            "|       ABS|Alcohol Beverage ...|ABS 85 Administra...|     M|  145613.36|         0.0|          0.0|   M3|1747360.3199999998|\n",
            "|       ABS|Alcohol Beverage ...|ABS 85 Administra...|     F|   136970.0|         0.0|          0.0|   M3|         1643640.0|\n",
            "|       ABS|Alcohol Beverage ...|ABS 85 Administra...|     F|  89432.694|         0.0|       2490.0|   21|       1073192.328|\n",
            "|       ABS|Alcohol Beverage ...|ABS 85 Administra...|     F|    78947.0|      456.68|       6257.7|   16|          947364.0|\n",
            "|       ABS|Alcohol Beverage ...|ABS 85 Administra...|     F|    98228.0|       518.8|       998.28|   21|         1178736.0|\n",
            "|       ABS|Alcohol Beverage ...|ABS 85 Administra...|     F| 82405.3864|       549.2|          0.0|   18|       988864.6368|\n",
            "|       ABS|Alcohol Beverage ...|ABS 85 Administra...|     M|    93986.0|     1187.06|      2452.94|  N20|         1127832.0|\n",
            "|       ABS|Alcohol Beverage ...|ABS 85 Administra...|     F|  149464.15|         0.0|      9021.82|   18|1793569.7999999998|\n",
            "|       ABS|Alcohol Beverage ...|ABS 85 Administra...|     M|   117424.0|         0.0|          0.0|  N25|         1409088.0|\n",
            "|       ABS|Alcohol Beverage ...|ABS 85 Administra...|     F|   82808.28|    11870.82|          0.0|   21|         993699.36|\n",
            "|       ABS|Alcohol Beverage ...|ABS 85 Administra...|     M| 65961.8438|      2092.7|          0.0|   13|       791542.1256|\n",
            "|       ABS|Alcohol Beverage ...|ABS 85 Administra...|     M|   59288.86|     1013.01|          0.0|   13| 711466.3200000001|\n",
            "|       ABS|Alcohol Beverage ...|ABS 85 Administra...|     M|  139407.15|         0.0|          0.0|   M3|1672885.7999999998|\n",
            "|       ABS|Alcohol Beverage ...|ABS 85 Administra...|     F|   128531.0|         0.0|          0.0|  N27|         1542372.0|\n",
            "|       ABS|Alcohol Beverage ...|ABS 85 Administra...|     M|  152632.07|         0.0|          0.0|   M3|        1831584.84|\n",
            "|       ABS|Alcohol Beverage ...|ABS 85 Administra...|     F| 73955.2951|     3509.43|          0.0|   16| 887463.5412000001|\n",
            "|       ABS|Alcohol Beverage ...|ABS 85 Administra...|     M|   117424.0|         0.0|          0.0|  N25|         1409088.0|\n",
            "|       ABS|Alcohol Beverage ...|ABS 85 Administra...|     M|   117424.0|         0.0|          0.0|  N25|         1409088.0|\n",
            "|       ABS|Alcohol Beverage ...|ABS 85 Administra...|     F| 110572.155|         0.0|          0.0|  N26|1326865.8599999999|\n",
            "+----------+--------------------+--------------------+------+-----------+------------+-------------+-----+------------------+\n",
            "only showing top 20 rows\n",
            "\n"
          ]
        }
      ]
    },
    {
      "cell_type": "markdown",
      "source": [
        "In order to compute the annual salary I assumed the base salary is the montly salary for each employee and each row of data is one person. With that I simply created a new data frame which now contains the annual salary column. This new column contains the annual salary per employee which is computed by multiply the base salary to 12. This new column is created by the withColumn function."
      ],
      "metadata": {
        "id": "1R3ni8QWXxoQ"
      }
    },
    {
      "cell_type": "markdown",
      "source": [
        "## **7. Sort the result and display the highest average.**"
      ],
      "metadata": {
        "id": "nJ91D_9kY-8w"
      }
    },
    {
      "cell_type": "code",
      "source": [
        "sortedAnnual_employees_df = employees_df_w_annual.orderBy(\"Annual_Salary\", ascending = False)\n",
        "sortedAnnual_employees_df.show()"
      ],
      "metadata": {
        "colab": {
          "base_uri": "https://localhost:8080/"
        },
        "id": "v-bd0CDPZItY",
        "outputId": "b8ce4526-8b85-4d3b-e353-40c75f6f4fcd"
      },
      "execution_count": 26,
      "outputs": [
        {
          "output_type": "stream",
          "name": "stdout",
          "text": [
            "+----------+--------------------+--------------------+------+-----------+------------+-------------+-----+-------------+\n",
            "|Department|     Department_Name|            Division|Gender|Base_Salary|Overtime_Pay|Longevity_Pay|Grade|Annual_Salary|\n",
            "+----------+--------------------+--------------------+------+-----------+------------+-------------+-----+-------------+\n",
            "|       CEX|Offices of the Co...|CEX 15 Chief Admi...|     M|   292000.0|         0.0|          0.0|  EX0|    3504000.0|\n",
            "|       CAT|County Attorney's...|CAT 30 County Att...|     M|   258000.0|         0.0|          0.0|  EX1|    3096000.0|\n",
            "|       POL|Department of Police|POL 47 HQ Police ...|     M|   258000.0|         0.0|          0.0|  EX1|    3096000.0|\n",
            "|       CCL|      County Council|CCL 01 Council Ce...|     F|  246162.47|         0.0|          0.0| NULL|   2953949.64|\n",
            "|       DGS|Department of Gen...|     DGS 36 Director|     M|   246000.0|         0.0|          0.0|  EX1|    2952000.0|\n",
            "|       DOT|Department of Tra...|     DOT 50 Director|     M|   244000.0|         0.0|          0.0|  EX1|    2928000.0|\n",
            "|       HHS|Department of Hea...|HHS 60 Director's...|     M|   240000.0|         0.0|          0.0|  EX1|    2880000.0|\n",
            "|       FIN|Department of Fin...|     FIN 32 Director|     M|   236000.0|         0.0|          0.0|  EX1|    2832000.0|\n",
            "|       ABS|Alcohol Beverage ...|     ABS 85 Director|     F|   236000.0|         0.0|          0.0|  EX1|    2832000.0|\n",
            "|       OMB|Office of Managem...|OMB 31 Office of ...|     F|   236000.0|         0.0|          0.0|  EX1|    2832000.0|\n",
            "|       PRO|Office of Procure...|PRO 35 Procuremen...|     M|   236000.0|         0.0|          0.0|  EX1|    2832000.0|\n",
            "|       HHS|Department of Hea...|HHS 60 Behavioral...|     M|   233329.0|         0.0|      2293.44|  MD4|    2799948.0|\n",
            "|       IGR|Office of Intergo...|     IGR 20 Director|     F|   232000.0|         0.0|          0.0|  EX1|    2784000.0|\n",
            "|       CEX|Offices of the Co...|CEX 15 County Exe...|     M|  231915.07|         0.0|          0.0| NULL|   2782980.84|\n",
            "|       TBS|Department of Tec...|TBS 34 CIO Chief ...|     F|   227000.0|         0.0|          0.0|  EX1|    2724000.0|\n",
            "|       OHR|Office of Human R...|     OHR 33 Director|     F|   226000.0|         0.0|          0.0|  EX1|    2712000.0|\n",
            "|       DEP|Department of Env...|     DEP 80 Director|     M|   225000.0|         0.0|          0.0|  EX1|    2700000.0|\n",
            "|       LIB|Department of Pub...|LIB 71 Director's...|     F|   224000.0|         0.0|          0.0|  EX1|    2688000.0|\n",
            "|       COR|Correction and Re...|  COR 42 DO Director|     M|   221000.0|         0.0|          0.0|  EX1|    2652000.0|\n",
            "|       HHS|Department of Hea...|HHS 60 Director's...|     M|   220000.0|         0.0|          0.0|  EX1|    2640000.0|\n",
            "+----------+--------------------+--------------------+------+-----------+------------+-------------+-----+-------------+\n",
            "only showing top 20 rows\n",
            "\n"
          ]
        }
      ]
    },
    {
      "cell_type": "markdown",
      "source": [
        "To get the sorted records by their salary and get the highest, I simply used the orderBy function then state the condition for sorting is the annual salary column. Then in to see the highest salary at the top, I marked the ascending argument as False."
      ],
      "metadata": {
        "id": "8cJ046ZiZPNo"
      }
    },
    {
      "cell_type": "markdown",
      "source": [
        "# HOA Conclusion"
      ],
      "metadata": {
        "id": "swyC_Zk96rvy"
      }
    },
    {
      "cell_type": "markdown",
      "source": [
        "**Enter your answer here**"
      ],
      "metadata": {
        "id": "QsZDae4-6wRH"
      }
    }
  ]
}